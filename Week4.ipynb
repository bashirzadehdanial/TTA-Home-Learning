{
 "cells": [
  {
   "cell_type": "code",
   "execution_count": 1,
   "id": "fac118d6",
   "metadata": {},
   "outputs": [
    {
     "name": "stdout",
     "output_type": "stream",
     "text": [
      "[0 1 2 3 4 5 6 7 8 9]\n"
     ]
    }
   ],
   "source": [
    "#Task1\n",
    "import numpy as np\n",
    "x= np.array([0,1,2,3,4,5,6,7,8,9])\n",
    "print(x)"
   ]
  },
  {
   "cell_type": "code",
   "execution_count": 2,
   "id": "4e60c39e",
   "metadata": {},
   "outputs": [
    {
     "name": "stdout",
     "output_type": "stream",
     "text": [
      "[[ True  True  True]\n",
      " [ True  True  True]\n",
      " [ True  True  True]]\n"
     ]
    }
   ],
   "source": [
    "#Task2\n",
    "boolean=np.array([True,True,True,True,True,True,True,True,True])\n",
    "boolean1=boolean.reshape(3,3)\n",
    "print(boolean1)\n"
   ]
  },
  {
   "cell_type": "code",
   "execution_count": 3,
   "id": "59015730",
   "metadata": {},
   "outputs": [
    {
     "name": "stdout",
     "output_type": "stream",
     "text": [
      "[1 3 5 7 9]\n",
      "[ 2  4  6  8 10]\n"
     ]
    }
   ],
   "source": [
    "#Task3\n",
    "odd_list=[]\n",
    "array=np.array([1,2,3,4,5,6,7,8,9,10])\n",
    "list=array.tolist()\n",
    "for i in list:\n",
    "    if i%2==1:\n",
    "        odd_list.append(i)\n",
    "        list.remove(i)\n",
    "new_array=np.asarray(list)\n",
    "odd_array=np.asarray(odd_list)\n",
    "print(odd_array)\n",
    "print(new_array)"
   ]
  },
  {
   "cell_type": "code",
   "execution_count": 4,
   "id": "4fdce6b8",
   "metadata": {},
   "outputs": [
    {
     "name": "stdout",
     "output_type": "stream",
     "text": [
      "[-1  2 -1  4 -1  6 -1  8 -1 10]\n"
     ]
    }
   ],
   "source": [
    "#Task4\n",
    "array=np.array([1,2,3,4,5,6,7,8,9,10])\n",
    "print(np.where(array%2==1,-1,array))"
   ]
  },
  {
   "cell_type": "code",
   "execution_count": 5,
   "id": "91733948",
   "metadata": {},
   "outputs": [
    {
     "name": "stdout",
     "output_type": "stream",
     "text": [
      "[[1 2 3 4]\n",
      " [5 6 7 8]]\n"
     ]
    }
   ],
   "source": [
    "#Task5\n",
    "array=np.array([1,2,3,4,5,6,7,8])\n",
    "new_array=array.reshape(2,4)\n",
    "print(new_array)"
   ]
  },
  {
   "cell_type": "code",
   "execution_count": 6,
   "id": "9ef0ceff",
   "metadata": {},
   "outputs": [
    {
     "name": "stdout",
     "output_type": "stream",
     "text": [
      "[[1 2 4]\n",
      " [5 6 7]]\n",
      "[[1 2]\n",
      " [3 4]\n",
      " [5 6]]\n",
      "[[11 14 18]\n",
      " [23 30 40]\n",
      " [35 46 62]]\n",
      "279\n"
     ]
    }
   ],
   "source": [
    "#Task6\n",
    "a=np.array([1,2,3,4,5,6])\n",
    "a1=a.reshape(3,2)\n",
    "b=np.array([1,2,4,5,6,7])\n",
    "b1=b.reshape(2,3)\n",
    "c=np.dot(a1,b1)\n",
    "d=np.sum(c)\n",
    "print(b1)\n",
    "print(a1)\n",
    "print(c)\n",
    "print(d)"
   ]
  },
  {
   "cell_type": "code",
   "execution_count": null,
   "id": "d5064c15",
   "metadata": {},
   "outputs": [],
   "source": []
  }
 ],
 "metadata": {
  "kernelspec": {
   "display_name": "Python 3",
   "language": "python",
   "name": "python3"
  },
  "language_info": {
   "codemirror_mode": {
    "name": "ipython",
    "version": 3
   },
   "file_extension": ".py",
   "mimetype": "text/x-python",
   "name": "python",
   "nbconvert_exporter": "python",
   "pygments_lexer": "ipython3",
   "version": "3.8.8"
  }
 },
 "nbformat": 4,
 "nbformat_minor": 5
}
