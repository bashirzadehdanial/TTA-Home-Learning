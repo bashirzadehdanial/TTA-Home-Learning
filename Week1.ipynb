{
 "cells": [
  {
   "cell_type": "code",
   "execution_count": null,
   "id": "162cf883",
   "metadata": {},
   "outputs": [],
   "source": [
    "# Task 1:\n",
    "import random\n",
    "import math\n",
    "number1 = random.randint(1, 10)\n",
    "print(number1)\n",
    "name = input(\"what is your name?\")\n",
    "print(\"your name is \" + name)\n",
    "your_choice = int(input(\"guess a number:\"))\n",
    "if your_choice == number1:\n",
    "    print(\"your chice is correct\")\n",
    "else:\n",
    "    print(\"you lost!\")"
   ]
  },
  {
   "cell_type": "code",
   "execution_count": null,
   "id": "de80032c",
   "metadata": {},
   "outputs": [],
   "source": [
    "# Task2:\n",
    "number = int(input(\"choose a number between 1 to 100:\"))\n",
    "if number > 0 and number <= 34:\n",
    "    print(\"joke1\")\n",
    "elif number > 34 and number <= 67:\n",
    "    print(\"joke2\")\n",
    "elif number > 67 and number <= 100:\n",
    "    print(\"joke3\")"
   ]
  },
  {
   "cell_type": "code",
   "execution_count": null,
   "id": "f4a1c0d6",
   "metadata": {},
   "outputs": [],
   "source": [
    "# Task3:\n",
    "starter = input(\"what is your favourite starter:\")\n",
    "main_course = input(\"what is your favourite main course:\")\n",
    "dessert = input(\"what is your favourite dessert:\")\n",
    "drink = input(\"what is your favourite drink:\")\n",
    "print(\"your favourite starter is\" \" \" + starter + \" \" \"and your favourite meal is\" \" \" + main_course +\n",
    "      \" \" \"and your favourite dessert is\" \" \" + dessert + \" \" \"and your favourite drink is a glass of\" \" \" + drink)"
   ]
  },
  {
   "cell_type": "code",
   "execution_count": null,
   "id": "4ed122ac",
   "metadata": {},
   "outputs": [],
   "source": [
    "# Task4:\n",
    "motorbike_price = int(2000)\n",
    "loses = 0.9\n",
    "while motorbike_price >= 1000:\n",
    "    print(\"£\",motorbike_price)\n",
    "    motorbike_price = motorbike_price*loses"
   ]
  },
  {
   "cell_type": "code",
   "execution_count": null,
   "id": "7c290b5d",
   "metadata": {},
   "outputs": [],
   "source": [
    "# Task 5:\n",
    "number1 = int(input(\"choose first number:\"))\n",
    "number2 = int(input(\"choose second number:\"))\n",
    "option = input(\"please choose one of these items(+,-,/,*,^,**):\")\n",
    "if option == \"+\":\n",
    "    print(number1+number2)\n",
    "elif option == \"-\":\n",
    "    print(number1-number2)\n",
    "elif option == \"/\":\n",
    "    print(number1/number2)\n",
    "elif option == \"*\":\n",
    "    print(number1*number2)\n",
    "elif option == \"^\":\n",
    "    print(number1**number2)\n",
    "elif option == \"**\":\n",
    "    print(number1**number2)\n",
    "else:\n",
    "    print(\"please try again!\")"
   ]
  }
 ],
 "metadata": {
  "kernelspec": {
   "display_name": "Python 3",
   "language": "python",
   "name": "python3"
  },
  "language_info": {
   "codemirror_mode": {
    "name": "ipython",
    "version": 3
   },
   "file_extension": ".py",
   "mimetype": "text/x-python",
   "name": "python",
   "nbconvert_exporter": "python",
   "pygments_lexer": "ipython3",
   "version": "3.8.8"
  }
 },
 "nbformat": 4,
 "nbformat_minor": 5
}
