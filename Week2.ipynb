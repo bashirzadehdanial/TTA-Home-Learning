{
 "cells": [
  {
   "cell_type": "code",
   "execution_count": null,
   "id": "435d3da7",
   "metadata": {},
   "outputs": [],
   "source": [
    "#Task1\n",
    "number=(int(input(\"Please enter a number:\")))\n",
    "if number>=10:\n",
    "    print(\"Number is greater than 10\")\n",
    "else:\n",
    "    print(\"Number is smaller than 10\")"
   ]
  },
  {
   "cell_type": "code",
   "execution_count": null,
   "id": "ed8eabd2",
   "metadata": {},
   "outputs": [],
   "source": [
    "#Task2\n",
    "number=int(input(\"Please enter a number:\"))\n",
    "while number<10:\n",
    "  number+=1\n",
    "  print(number)\n",
    "print(\"Number is greater than 10\")"
   ]
  },
  {
   "cell_type": "code",
   "execution_count": null,
   "id": "c8ccf603",
   "metadata": {},
   "outputs": [],
   "source": [
    "#Home Learning Task\n",
    "def procedure_1(motorbike_cost,loses):\n",
    "    while motorbike_cost>1000:\n",
    "        motorbike_cost=motorbike_cost*loses\n",
    "        print(motorbike_cost)\n",
    "        \n",
    "motorbike_cost=int(input(\"please enter the motorbike cost:\"))\n",
    "loses=float(input(\"please enter the loses cost:\"))\n",
    "option = input(\"please select one of options: (procedure_1,+,_,*)\")\n",
    "if option== \"procedure_1\":\n",
    "     print(procedure_1(motorbike_cost,loses))\n",
    "else:\n",
    "     print(\"The option you have chosen is unavailable\")"
   ]
  }
 ],
 "metadata": {
  "kernelspec": {
   "display_name": "Python 3",
   "language": "python",
   "name": "python3"
  },
  "language_info": {
   "codemirror_mode": {
    "name": "ipython",
    "version": 3
   },
   "file_extension": ".py",
   "mimetype": "text/x-python",
   "name": "python",
   "nbconvert_exporter": "python",
   "pygments_lexer": "ipython3",
   "version": "3.8.8"
  }
 },
 "nbformat": 4,
 "nbformat_minor": 5
}
