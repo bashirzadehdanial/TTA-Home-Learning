{
 "cells": [
  {
   "cell_type": "code",
   "execution_count": null,
   "id": "0ff58d77",
   "metadata": {},
   "outputs": [],
   "source": [
    "#Task1\n",
    "number=open(\"numbers.txt\",\"w\")\n",
    "number.write(input(\"please enter first number:\"))\n",
    "number.write(input(\"please enter second number:\"))\n",
    "number.write(input(\"please enter third number:\"))\n",
    "number.write(input(\"please enter forth number:\"))\n",
    "number.close()\n",
    "with open(\"numbers.txt\",\"r\") as number:\n",
    "    numbers=number.read()\n",
    "number.close() \n",
    "print(numbers)\n"
   ]
  },
  {
   "cell_type": "code",
   "execution_count": null,
   "id": "7cd31e2f",
   "metadata": {},
   "outputs": [],
   "source": [
    "#Task2\n",
    "def mark_grade():\n",
    "    if percentage>=80:\n",
    "        print(\"your grade is A\")\n",
    "    elif percentage>=60 and percentage<80:\n",
    "        print(\"your grade is B\")\n",
    "    elif percentage >=40 and percentage<60:\n",
    "        print(\"your grade is C\")\n",
    "    elif percentage<40:\n",
    "        print(\"your grade is D\")\n",
    "    \n",
    "percentage=(int(input(\"please enter your percentage:\")))\n",
    "print(mark_grade())\n",
    "target=(int(input(\"please enter your target grade:\")))\n",
    "if target > percentage:\n",
    "        print(\"your target is\"+str(target)+\"and your mark is\"+str(percentage))\n",
    "        print(\"Good luck\")\n",
    "elif target==percentage:\n",
    "        print(\"your target is\"+str(target)+\"and your mark is\"+str(percentage))\n",
    "        print(\"you need a new target plan\")\n",
    "elif target<percentage:\n",
    "        print(\"your target is\"+str(target)+\"and your mark is\"+str(percentage))\n",
    "        print(\"you should change your target plan\")"
   ]
  },
  {
   "cell_type": "code",
   "execution_count": null,
   "id": "9bba07c7",
   "metadata": {},
   "outputs": [],
   "source": []
  }
 ],
 "metadata": {
  "kernelspec": {
   "display_name": "Python 3",
   "language": "python",
   "name": "python3"
  },
  "language_info": {
   "codemirror_mode": {
    "name": "ipython",
    "version": 3
   },
   "file_extension": ".py",
   "mimetype": "text/x-python",
   "name": "python",
   "nbconvert_exporter": "python",
   "pygments_lexer": "ipython3",
   "version": "3.8.8"
  }
 },
 "nbformat": 4,
 "nbformat_minor": 5
}
