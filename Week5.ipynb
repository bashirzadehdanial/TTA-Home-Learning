{
 "cells": [
  {
   "cell_type": "code",
   "execution_count": 1,
   "id": "8069ce3b",
   "metadata": {},
   "outputs": [
    {
     "data": {
      "text/plain": [
       "(16, 5)"
      ]
     },
     "execution_count": 1,
     "metadata": {},
     "output_type": "execute_result"
    }
   ],
   "source": [
    "#Task1\n",
    "import pandas as pd\n",
    "holiday_destinations=pd.read_csv(\"/Users/Danial/Desktop/Holiday_Destinations.csv\")\n",
    "holiday_destinations.shape"
   ]
  },
  {
   "cell_type": "code",
   "execution_count": 2,
   "id": "a094552b",
   "metadata": {},
   "outputs": [
    {
     "name": "stdout",
     "output_type": "stream",
     "text": [
      "    Countries  Score out of 10  Stars  All-Inclusives Destinations\n",
      "3       Japan              8.0    4.7              18        Tokyo\n",
      "4         UAE              5.0    4.8              22        Dubai\n",
      "5      Greece              4.0    4.8              17       Athens\n",
      "6  Netherland              3.0    4.7               3    Amsterdam\n",
      "7       Spain              5.0    4.4               8       Madrid\n",
      "8    Scotland              8.0    4.3               1     Edinurgh\n"
     ]
    }
   ],
   "source": [
    "#Task2\n",
    "print(holiday_destinations.iloc[3:9])"
   ]
  },
  {
   "cell_type": "code",
   "execution_count": 3,
   "id": "4be787f9",
   "metadata": {},
   "outputs": [
    {
     "data": {
      "text/plain": [
       "9.5625"
      ]
     },
     "execution_count": 3,
     "metadata": {},
     "output_type": "execute_result"
    }
   ],
   "source": [
    "#Task3\n",
    "holiday_destinations[\"All-Inclusives\"].mean()"
   ]
  },
  {
   "cell_type": "code",
   "execution_count": 4,
   "id": "c47958ca",
   "metadata": {},
   "outputs": [
    {
     "data": {
      "text/plain": [
       "1.0"
      ]
     },
     "execution_count": 4,
     "metadata": {},
     "output_type": "execute_result"
    }
   ],
   "source": [
    "#Task4\n",
    "holiday_destinations[\"Score out of 10\"].min()"
   ]
  },
  {
   "cell_type": "code",
   "execution_count": 5,
   "id": "40182287",
   "metadata": {},
   "outputs": [
    {
     "data": {
      "text/plain": [
       "9.8"
      ]
     },
     "execution_count": 5,
     "metadata": {},
     "output_type": "execute_result"
    }
   ],
   "source": [
    "#Task5\n",
    "holiday_destinations[\"Score out of 10\"].max()"
   ]
  },
  {
   "cell_type": "code",
   "execution_count": 6,
   "id": "4aa0d4dd",
   "metadata": {},
   "outputs": [
    {
     "data": {
      "text/plain": [
       "0      True\n",
       "1     False\n",
       "2      True\n",
       "3      True\n",
       "4      True\n",
       "5      True\n",
       "6     False\n",
       "7     False\n",
       "8     False\n",
       "9     False\n",
       "10    False\n",
       "11    False\n",
       "12     True\n",
       "13    False\n",
       "14     True\n",
       "15    False\n",
       "Name: All-Inclusives, dtype: bool"
      ]
     },
     "execution_count": 6,
     "metadata": {},
     "output_type": "execute_result"
    }
   ],
   "source": [
    "#Task6\n",
    "holiday_destinations[\"All-Inclusives\"]>9"
   ]
  },
  {
   "cell_type": "code",
   "execution_count": 7,
   "id": "d719eaa4",
   "metadata": {},
   "outputs": [
    {
     "data": {
      "text/plain": [
       "0     False\n",
       "1     False\n",
       "2     False\n",
       "3     False\n",
       "4     False\n",
       "5     False\n",
       "6     False\n",
       "7     False\n",
       "8     False\n",
       "9     False\n",
       "10    False\n",
       "11    False\n",
       "12     True\n",
       "13    False\n",
       "14    False\n",
       "15    False\n",
       "Name: Score out of 10, dtype: bool"
      ]
     },
     "execution_count": 7,
     "metadata": {},
     "output_type": "execute_result"
    }
   ],
   "source": [
    "#Task7\n",
    "holiday_destinations[\"Score out of 10\"]>8"
   ]
  },
  {
   "cell_type": "code",
   "execution_count": 16,
   "id": "bdd36469",
   "metadata": {},
   "outputs": [
    {
     "data": {
      "text/plain": [
       "0      True\n",
       "1     False\n",
       "2     False\n",
       "3     False\n",
       "4     False\n",
       "5     False\n",
       "6     False\n",
       "7     False\n",
       "8     False\n",
       "9     False\n",
       "10    False\n",
       "11    False\n",
       "12    False\n",
       "13     True\n",
       "14    False\n",
       "15    False\n",
       "Name: Score out of 10, dtype: bool"
      ]
     },
     "execution_count": 16,
     "metadata": {},
     "output_type": "execute_result"
    }
   ],
   "source": [
    "#Task8\n",
    "holiday_destinations[\"Score out of 10\"]<2"
   ]
  },
  {
   "cell_type": "code",
   "execution_count": null,
   "id": "32d5c16e",
   "metadata": {},
   "outputs": [],
   "source": []
  }
 ],
 "metadata": {
  "kernelspec": {
   "display_name": "Python 3",
   "language": "python",
   "name": "python3"
  },
  "language_info": {
   "codemirror_mode": {
    "name": "ipython",
    "version": 3
   },
   "file_extension": ".py",
   "mimetype": "text/x-python",
   "name": "python",
   "nbconvert_exporter": "python",
   "pygments_lexer": "ipython3",
   "version": "3.8.8"
  }
 },
 "nbformat": 4,
 "nbformat_minor": 5
}
